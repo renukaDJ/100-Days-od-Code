{
 "cells": [
  {
   "cell_type": "code",
   "execution_count": null,
   "metadata": {},
   "outputs": [],
   "source": [
    "#Sum of digits calculation"
   ]
  },
  {
   "cell_type": "markdown",
   "metadata": {},
   "source": [
    "You are given a two digit number. \n",
    "Write a code to return the sum of the digits."
   ]
  },
  {
   "cell_type": "code",
   "execution_count": 4,
   "metadata": {},
   "outputs": [
    {
     "name": "stdout",
     "output_type": "stream",
     "text": [
      "Enter the two digit number here: 78\n",
      "The sum of two digits is 15.\n"
     ]
    }
   ],
   "source": [
    "num=int(input(\"Enter the two digit number here: \"))\n",
    "n=str(num)\n",
    "t=n[0]\n",
    "u=n[1]\n",
    "sum_num=int(t)+int(u)\n",
    "print(f\"The sum of two digits is {sum_num}.\")"
   ]
  },
  {
   "cell_type": "code",
   "execution_count": 5,
   "metadata": {},
   "outputs": [],
   "source": [
    "#BMI Calculator\n"
   ]
  },
  {
   "cell_type": "code",
   "execution_count": 12,
   "metadata": {},
   "outputs": [],
   "source": [
    "def bmi_cal():\n",
    "    height=float(input(\"Enter your height in meters: \\n\"))\n",
    "    weight=float(input(\"Enter your weight in kilo grams: \\n\"))\n",
    "    \n",
    "    bmi=round((weight/(height**2)),1)\n",
    "    \n",
    "    print(f\"Your bmi is: {bmi}\")\n"
   ]
  },
  {
   "cell_type": "code",
   "execution_count": 13,
   "metadata": {},
   "outputs": [
    {
     "name": "stdout",
     "output_type": "stream",
     "text": [
      "Enter your height in meters: \n",
      "2.2\n",
      "Enter your weight in kilo grams: \n",
      "72.5\n",
      "Your bmi is: 15.0\n"
     ]
    }
   ],
   "source": [
    "bmi_cal()"
   ]
  },
  {
   "cell_type": "markdown",
   "metadata": {},
   "source": [
    "Balance week calculator\n",
    "\n",
    "Considering we are lucky enough to survive till the age of 90 years, print the number of weeks left in our life. "
   ]
  },
  {
   "cell_type": "code",
   "execution_count": 15,
   "metadata": {},
   "outputs": [
    {
     "name": "stdout",
     "output_type": "stream",
     "text": [
      "Enter your date of birth in dd/mm/yyyy format.\n",
      "18/07/1991\n",
      "Enter today's date in dd/mm/yyyy format.\n",
      "03/01/2021\n"
     ]
    }
   ],
   "source": [
    "dob=input(\"Enter your date of birth in dd/mm/yyyy format.\\n\")\n",
    "cur=input(\"Enter today's date in dd/mm/yyyy format.\\n\")\n",
    "even=['04','06','09','11']\n",
    "odd=['01','03','05','07','08','10','12']\n",
    "feb=['02']\n",
    "def leap(year):\n",
    "    leap=0\n",
    "    dob_by_100=int(dob[-4:])%100\n",
    "    dob_by_4=int(dob[-4:])%4\n",
    "    if dob_by_100!=0 and dob_by_4==0:\n",
    "        leap=1\n",
    "        print(f\"Your birth year, {int(dob[-4:])}, was a leap year.\")\n",
    "    else:\n",
    "        print(f\"Your birth year, {int(dob[-4:])}, was not a leap year.\")\n",
    "    \n",
    "\n",
    "    \n"
   ]
  },
  {
   "cell_type": "code",
   "execution_count": 16,
   "metadata": {},
   "outputs": [
    {
     "name": "stdout",
     "output_type": "stream",
     "text": [
      "Your birth year, 1991, was not a leap year.\n"
     ]
    }
   ],
   "source": [
    "leap(dob)"
   ]
  },
  {
   "cell_type": "code",
   "execution_count": 22,
   "metadata": {},
   "outputs": [],
   "source": [
    "def num_leap_year_passed():\n",
    "    num_leap=0\n",
    "    for i in range(int(dob[-4:]),int(cur[-4:])+1):\n",
    "        if i%1200!=0 and i%4==0:\n",
    "            num_leap+=1\n",
    "            \n",
    "    print(f\"number of leap years passed by: {num_leap}\")\n"
   ]
  },
  {
   "cell_type": "code",
   "execution_count": 23,
   "metadata": {},
   "outputs": [
    {
     "name": "stdout",
     "output_type": "stream",
     "text": [
      "number of leap years passed by: 8\n"
     ]
    }
   ],
   "source": [
    "num_leap_year_passed()"
   ]
  },
  {
   "cell_type": "code",
   "execution_count": 28,
   "metadata": {},
   "outputs": [],
   "source": [
    "def year_90yo():\n",
    "    edge=int(dob[-4:])+90\n",
    "    print(f\"You will be 90 years old in the year {edge}\")"
   ]
  },
  {
   "cell_type": "code",
   "execution_count": 29,
   "metadata": {},
   "outputs": [
    {
     "name": "stdout",
     "output_type": "stream",
     "text": [
      "You will be 90 years old in the year 2081\n"
     ]
    }
   ],
   "source": [
    "year_90yo()"
   ]
  },
  {
   "cell_type": "code",
   "execution_count": 34,
   "metadata": {},
   "outputs": [],
   "source": [
    "def num_leap_year_left():\n",
    "    num_leap=0\n",
    "    for i in range(int(cur[-4:]),2081+1):\n",
    "        if i%1200!=0 and i%4==0:\n",
    "            num_leap+=1\n",
    "            \n",
    "    print(f\"number of leap years left: {num_leap}\")"
   ]
  },
  {
   "cell_type": "code",
   "execution_count": 35,
   "metadata": {},
   "outputs": [
    {
     "name": "stdout",
     "output_type": "stream",
     "text": [
      "number of leap years left: 15\n"
     ]
    }
   ],
   "source": [
    "num_leap_year_left()"
   ]
  },
  {
   "cell_type": "code",
   "execution_count": 36,
   "metadata": {},
   "outputs": [],
   "source": [
    "def tot_num_leap_year():\n",
    "    num_leap=0\n",
    "    for i in range(int(dob[-4:]),int(dob[-4:])+91):\n",
    "        if i%1200!=0 and i%4==0:\n",
    "            num_leap+=1\n",
    "            \n",
    "    print(f\"Total number of leap years for life: {num_leap}\")"
   ]
  },
  {
   "cell_type": "code",
   "execution_count": 37,
   "metadata": {},
   "outputs": [
    {
     "name": "stdout",
     "output_type": "stream",
     "text": [
      "Total number of leap years for life: 23\n"
     ]
    }
   ],
   "source": [
    "tot_num_leap_year()"
   ]
  },
  {
   "cell_type": "code",
   "execution_count": null,
   "metadata": {},
   "outputs": [],
   "source": [
    "def num_weeks_left(dob,year_90yo):\n",
    "    dob=input(\"Enter your date of birth in dd/mm/yyyy format.\\n\")\n",
    "    cur=input(\"Enter today's date in dd/mm/yyyy format.\\n\")\n",
    "    "
   ]
  }
 ],
 "metadata": {
  "kernelspec": {
   "display_name": "Python 3",
   "language": "python",
   "name": "python3"
  },
  "language_info": {
   "codemirror_mode": {
    "name": "ipython",
    "version": 3
   },
   "file_extension": ".py",
   "mimetype": "text/x-python",
   "name": "python",
   "nbconvert_exporter": "python",
   "pygments_lexer": "ipython3",
   "version": "3.7.4"
  }
 },
 "nbformat": 4,
 "nbformat_minor": 2
}
