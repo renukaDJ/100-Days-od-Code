{
 "cells": [
  {
   "cell_type": "code",
   "execution_count": 1,
   "metadata": {},
   "outputs": [],
   "source": [
    "import random"
   ]
  },
  {
   "cell_type": "code",
   "execution_count": 2,
   "metadata": {},
   "outputs": [
    {
     "data": {
      "text/plain": [
       "7"
      ]
     },
     "execution_count": 2,
     "metadata": {},
     "output_type": "execute_result"
    }
   ],
   "source": [
    "#Generating a random number falling within the specified range\n",
    "random_number=random.randint(1,10)\n",
    "random_number"
   ]
  },
  {
   "cell_type": "markdown",
   "metadata": {},
   "source": [
    "### What is a Module?\n",
    "\n",
    "When a code is expected to get very long, it can be split into parts based on functionalities. Each part then is called the module.\n",
    "\n",
    "A module can be created in a separate file. e.g. my_module---->area_of_triangle=0.5*b*h\n",
    "\n",
    "import my_module\n",
    "\n",
    "print(my_module.area_of_triangle)"
   ]
  },
  {
   "cell_type": "code",
   "execution_count": 3,
   "metadata": {},
   "outputs": [
    {
     "data": {
      "text/plain": [
       "0.9289670353775101"
      ]
     },
     "execution_count": 3,
     "metadata": {},
     "output_type": "execute_result"
    }
   ],
   "source": [
    "#Generating a random floating point number falling within the specified range\n",
    "rand_float=random.random()\n",
    "rand_float"
   ]
  },
  {
   "cell_type": "code",
   "execution_count": 4,
   "metadata": {},
   "outputs": [
    {
     "data": {
      "text/plain": [
       "2.937441082602467"
      ]
     },
     "execution_count": 4,
     "metadata": {},
     "output_type": "execute_result"
    }
   ],
   "source": [
    "random_number=random.randint(0,4)\n",
    "random_number\n",
    "\n",
    "rand_float=random.random()\n",
    "rand_float\n",
    "\n",
    "rand=random_number+rand_float\n",
    "rand"
   ]
  },
  {
   "cell_type": "code",
   "execution_count": 5,
   "metadata": {},
   "outputs": [
    {
     "data": {
      "text/plain": [
       "1.8821539956499795"
      ]
     },
     "execution_count": 5,
     "metadata": {},
     "output_type": "execute_result"
    }
   ],
   "source": [
    "#Getting random float number from 0 to 5\n",
    "under_5_float=random.random()*5\n",
    "under_5_float"
   ]
  },
  {
   "cell_type": "markdown",
   "metadata": {},
   "source": [
    "#### Heads or Tails?"
   ]
  },
  {
   "cell_type": "code",
   "execution_count": 6,
   "metadata": {},
   "outputs": [
    {
     "name": "stdout",
     "output_type": "stream",
     "text": [
      "Heads\n"
     ]
    }
   ],
   "source": [
    "random_num=random.randint(0,1)\n",
    "if random_num==0:\n",
    "    print('Tails')\n",
    "else:\n",
    "    print('Heads')"
   ]
  },
  {
   "cell_type": "markdown",
   "metadata": {},
   "source": [
    "#### Banker Roulette: Who will pay the bill?"
   ]
  },
  {
   "cell_type": "code",
   "execution_count": 7,
   "metadata": {},
   "outputs": [
    {
     "name": "stdout",
     "output_type": "stream",
     "text": [
      "Enter all the names seperated by ',':\n",
      "so,skokf,djgh\n",
      "skokf will pay the bill.\n"
     ]
    }
   ],
   "source": [
    "names=input(\"Enter all the names seperated by ',':\\n\")\n",
    "name_list=names.split(',')\n",
    "\n",
    "choice=name_list[random.randint(0,len(name_list))]\n",
    "print(f\"{choice} will pay the bill.\")\n",
    "    "
   ]
  },
  {
   "cell_type": "markdown",
   "metadata": {},
   "source": [
    "#### Treasure Map"
   ]
  },
  {
   "cell_type": "code",
   "execution_count": 11,
   "metadata": {},
   "outputs": [
    {
     "name": "stdout",
     "output_type": "stream",
     "text": [
      "['⬜️', '⬜️', '⬜️']\n",
      "['⬜️', '⬜️', '⬜️']\n",
      "['⬜️', '⬜️', '⬜️']\n",
      "Where do you want to put the treasure? 12\n"
     ]
    }
   ],
   "source": [
    "row1 = [\"⬜️\",\"⬜️\",\"⬜️\"]\n",
    "row2 = [\"⬜️\",\"⬜️\",\"⬜️\"]\n",
    "row3 = [\"⬜️\",\"⬜️\",\"⬜️\"]\n",
    "maps = [row1, row2, row3]\n",
    "print(f\"{row1}\\n{row2}\\n{row3}\")\n",
    "position = input(\"Where do you want to put the treasure? \")"
   ]
  },
  {
   "cell_type": "code",
   "execution_count": 12,
   "metadata": {},
   "outputs": [
    {
     "data": {
      "text/plain": [
       "(1, 2)"
      ]
     },
     "execution_count": 12,
     "metadata": {},
     "output_type": "execute_result"
    }
   ],
   "source": [
    "row=int(position[0])\n",
    "col=int(position[1])\n",
    "row,col"
   ]
  },
  {
   "cell_type": "code",
   "execution_count": 13,
   "metadata": {},
   "outputs": [],
   "source": [
    "selected_row=maps[row-1]\n",
    "selected_row[col-1]='X'"
   ]
  },
  {
   "cell_type": "code",
   "execution_count": 14,
   "metadata": {},
   "outputs": [
    {
     "data": {
      "text/plain": [
       "[['⬜️', 'X', '⬜️'], ['⬜️', '⬜️', '⬜️'], ['⬜️', '⬜️', '⬜️']]"
      ]
     },
     "execution_count": 14,
     "metadata": {},
     "output_type": "execute_result"
    }
   ],
   "source": [
    "maps"
   ]
  },
  {
   "cell_type": "code",
   "execution_count": 15,
   "metadata": {},
   "outputs": [
    {
     "name": "stdout",
     "output_type": "stream",
     "text": [
      "['⬜️', 'X', '⬜️']\n",
      "['⬜️', '⬜️', '⬜️']\n",
      "['⬜️', '⬜️', '⬜️']\n"
     ]
    }
   ],
   "source": [
    "print(f\"{row1}\\n{row2}\\n{row3}\")"
   ]
  },
  {
   "cell_type": "code",
   "execution_count": null,
   "metadata": {},
   "outputs": [],
   "source": []
  },
  {
   "cell_type": "markdown",
   "metadata": {},
   "source": [
    "#### Rock Paper Scissors"
   ]
  },
  {
   "cell_type": "code",
   "execution_count": 16,
   "metadata": {},
   "outputs": [],
   "source": [
    "rock = '''\n",
    "    _______\n",
    "---'   ____)\n",
    "      (_____)\n",
    "      (_____)\n",
    "      (____)\n",
    "---.__(___)\n",
    "'''\n",
    "\n",
    "paper = '''\n",
    "    _______\n",
    "---'   ____)____\n",
    "          ______)\n",
    "          _______)\n",
    "         _______)\n",
    "---.__________)\n",
    "'''\n",
    "\n",
    "scissors = '''\n",
    "    _______\n",
    "---'   ____)____\n",
    "          ______)\n",
    "       __________)\n",
    "      (____)\n",
    "---.__(___)\n",
    "'''\n",
    "\n"
   ]
  },
  {
   "cell_type": "code",
   "execution_count": 17,
   "metadata": {},
   "outputs": [
    {
     "name": "stdout",
     "output_type": "stream",
     "text": [
      "\n",
      "    _______\n",
      "---'   ____)\n",
      "      (_____)\n",
      "      (_____)\n",
      "      (____)\n",
      "---.__(___)\n",
      "\n"
     ]
    }
   ],
   "source": [
    "print(rock)"
   ]
  },
  {
   "cell_type": "code",
   "execution_count": 25,
   "metadata": {},
   "outputs": [
    {
     "name": "stdout",
     "output_type": "stream",
     "text": [
      "Enter your choice as follows:\n",
      "1 for rock\n",
      "2 for paper\n",
      "3 for scissors3\n",
      "\n",
      "    _______\n",
      "---'   ____)____\n",
      "          ______)\n",
      "       __________)\n",
      "      (____)\n",
      "---.__(___)\n",
      "\n",
      "\n",
      "    _______\n",
      "---'   ____)____\n",
      "          ______)\n",
      "          _______)\n",
      "         _______)\n",
      "---.__________)\n",
      "\n",
      "scissors cut the paper. You win!\n"
     ]
    }
   ],
   "source": [
    "user_choice=input(\"Enter your choice as follows:\\n1 for rock\\n2 for paper\\n3 for scissors\\n\")\n",
    "comp_choice=random.randint(1,3)\n",
    "ref={1:'rock',2:'paper',3:'scissors'}\n",
    "if user_choice=='1':\n",
    "    print(rock)\n",
    "elif user_choice=='2':\n",
    "    print(paper)\n",
    "elif user_choice=='3':\n",
    "    print(scissors)\n",
    "else:\n",
    "    print(\"Invalid input! Try again\")\n",
    "\n",
    "if comp_choice==1:\n",
    "    print(rock)\n",
    "elif comp_choice==2:\n",
    "    print(paper)\n",
    "elif comp_choice==3:\n",
    "    print(scissors)\n",
    "else:\n",
    "    print(\"Invalid input! Try again\")\n",
    "\n",
    "if int(user_choice)==comp_choice:\n",
    "    print(\"It's a Draw!\" )\n",
    "else:\n",
    "    if user_choice=='1' and comp_choice==2:\n",
    "        print (f\"{ref[1]} covered by {ref[2]}. Computer wins!\")\n",
    "    elif user_choice=='1' and comp_choice==3:\n",
    "        print (f\"{ref[1]} crushed {ref[3]}. You win!\")\n",
    "    elif user_choice=='2' and comp_choice==1:\n",
    "        print (f\"{ref[2]} covered {ref[1]}. You win!\")\n",
    "    elif user_choice=='2' and comp_choice==3:\n",
    "        print (f\"{ref[2]} got cut by {ref[3]}. Computer wins!\")\n",
    "    elif user_choice=='3' and comp_choice==1:\n",
    "        print (f\"{ref[3]} crushed by {ref[1]}. Computer wins!\")\n",
    "    elif user_choice=='3' and comp_choice==2:\n",
    "        print (f\"{ref[3]} cut the {ref[2]}. You win!\")\n",
    "    "
   ]
  },
  {
   "cell_type": "code",
   "execution_count": null,
   "metadata": {},
   "outputs": [],
   "source": []
  }
 ],
 "metadata": {
  "kernelspec": {
   "display_name": "Python 3",
   "language": "python",
   "name": "python3"
  },
  "language_info": {
   "codemirror_mode": {
    "name": "ipython",
    "version": 3
   },
   "file_extension": ".py",
   "mimetype": "text/x-python",
   "name": "python",
   "nbconvert_exporter": "python",
   "pygments_lexer": "ipython3",
   "version": "3.7.4"
  }
 },
 "nbformat": 4,
 "nbformat_minor": 2
}
