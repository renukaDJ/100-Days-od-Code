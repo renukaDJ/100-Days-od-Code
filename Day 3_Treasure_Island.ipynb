{
 "cells": [
  {
   "cell_type": "markdown",
   "metadata": {},
   "source": [
    "#### Odd or Even\n",
    "\n",
    "Take a number as an input from the user.\n",
    "\n",
    "Check if the number is odd or even."
   ]
  },
  {
   "cell_type": "code",
   "execution_count": 3,
   "metadata": {},
   "outputs": [],
   "source": [
    "def odd_even():\n",
    "    num=int(input(\"Enter the number here: \"))\n",
    "    \n",
    "    if num%2==0:\n",
    "        print(f\"{num} is an even number.\")\n",
    "    else: \n",
    "        print (f\"{num} is an odd number.\")"
   ]
  },
  {
   "cell_type": "code",
   "execution_count": 6,
   "metadata": {},
   "outputs": [
    {
     "name": "stdout",
     "output_type": "stream",
     "text": [
      "Enter the number here: 55\n",
      "55 is an odd number.\n"
     ]
    }
   ],
   "source": [
    "odd_even()"
   ]
  },
  {
   "cell_type": "markdown",
   "metadata": {},
   "source": [
    "#### BMI Calculator Indicating Obesity Status"
   ]
  },
  {
   "cell_type": "code",
   "execution_count": 2,
   "metadata": {},
   "outputs": [],
   "source": [
    "def bmi():\n",
    "    height=float(input(\"Enter your height in metres:\\n\"))\n",
    "    weight=float(input(\"Enter your weight in kilo grams:\\n\"))\n",
    "    \n",
    "    bmi=weight/(height)**2\n",
    "    \n",
    "    if bmi<18.5:\n",
    "        print(\"You are underweight. Improve your diet and exercise.\")\n",
    "    elif bmi<18.4 and bmi<25:\n",
    "        print(\"You have normal weight. Continue the healthy lifestyle.\")\n",
    "    elif bmi<24 and bmi<30:\n",
    "        print(\"You are overweight. Try reducing your weight through quantified nutrition and exercise.\")\n",
    "    else:\n",
    "        print(\"You are obese. Try reducing your weight through quantified nutrition and exercise.\")\n",
    "    \n",
    "        "
   ]
  },
  {
   "cell_type": "code",
   "execution_count": 3,
   "metadata": {},
   "outputs": [
    {
     "name": "stdout",
     "output_type": "stream",
     "text": [
      "Enter your height in metres:\n",
      "1.5\n",
      "Enter your weight in kilo grams:\n",
      "50\n",
      "You are overweight. Try reducing your weight through quantified nutrition and exercise.\n"
     ]
    }
   ],
   "source": [
    "bmi()"
   ]
  },
  {
   "cell_type": "markdown",
   "metadata": {},
   "source": [
    "#### Identifying leap year"
   ]
  },
  {
   "cell_type": "markdown",
   "metadata": {},
   "source": [
    " Conditions for a leap year:\n",
    " \n",
    " 1. Completely divisible by 4\n",
    " 2. Not divisible by 100 \n",
    " 3. Unless completely divisible by 400"
   ]
  },
  {
   "cell_type": "code",
   "execution_count": 10,
   "metadata": {},
   "outputs": [],
   "source": [
    "def leapyr_check():\n",
    "    year=int(input(\"Enter the year here: \\n\"))\n",
    "    \n",
    "    if year%4==0 and year%100!=0:\n",
    "        print(f\"{year} is a leap year.\")\n",
    "    \n",
    "    elif year%100==0:\n",
    "        \n",
    "        if year%400==0:\n",
    "            print(f\"{year} is a leap year.\")\n",
    "        \n",
    "        else:\n",
    "            print(f\"{year} is not a leap year.\")\n",
    "    else:\n",
    "        print(f\"{year} is not a leap year.\")\n",
    "              "
   ]
  },
  {
   "cell_type": "code",
   "execution_count": 12,
   "metadata": {},
   "outputs": [
    {
     "name": "stdout",
     "output_type": "stream",
     "text": [
      "Enter the year here: \n",
      "1989\n",
      "1989 is not a leap year.\n"
     ]
    }
   ],
   "source": [
    "leapyr_check()"
   ]
  },
  {
   "cell_type": "markdown",
   "metadata": {},
   "source": [
    "#### Pizza Order\n",
    "\n",
    "Automatic Pizza order program based on following informatiion:\n",
    "\n",
    "1. Prices\n",
    "    \n",
    "    a. Small Pizza: $15\n",
    "    \n",
    "    b. Medium Pizza: $20\n",
    "    \n",
    "    c. Large Pizza: $25\n",
    "    \n",
    "    \n",
    "2. Add-on prices\n",
    "\n",
    "    a. Pepperoni for Small Pizza: +$2\n",
    "    \n",
    "    b. Pepperoni for Medium or Large Pizza: +$3\n",
    "    \n",
    "    \n",
    "\n",
    "    a. Extra cheese for any size pizza: + $1"
   ]
  },
  {
   "cell_type": "code",
   "execution_count": 6,
   "metadata": {},
   "outputs": [],
   "source": [
    "def pizza_order():\n",
    "    print(\"Welcome to 'DODO Pizza'!\")\n",
    "    size=input(\"What size pizza do you want to order?\\nsmall\\nmedium\\nlarge\\n\")\n",
    "    pep=input(\"Do you want to add extra pepperoni to it? Y or N\\n\")\n",
    "    cheese=input(\"Do you want to add extra cheese to it? Y or N\\n\")\n",
    "    bill=0\n",
    "    if size=='small':\n",
    "        bill=15\n",
    "\n",
    "        if pep=='Y':\n",
    "            bill+=2\n",
    "\n",
    "    elif size=='medium':\n",
    "        bill=20\n",
    "        if pep=='Y':\n",
    "            bill+=3\n",
    "\n",
    "    else:\n",
    "        bill=25\n",
    "        if pep=='Y':\n",
    "            bill+=3\n",
    "    \n",
    "    if cheese=='Y':\n",
    "        bill+=1\n",
    "        \n",
    "    print(\"Your total bill is : $\", bill)\n",
    "\n"
   ]
  },
  {
   "cell_type": "code",
   "execution_count": 7,
   "metadata": {},
   "outputs": [
    {
     "name": "stdout",
     "output_type": "stream",
     "text": [
      "Welcome to 'DODO Pizza'!\n",
      "What size pizza do you want to order?\n",
      "small\n",
      "medium\n",
      "large\n",
      "large\n",
      "Do you want to add extra pepperoni to it? Y or N\n",
      "Y\n",
      "Do you want to add extra cheese to it? Y or N\n",
      "Y\n",
      "Your total bill is : $ 29\n"
     ]
    }
   ],
   "source": [
    "pizza_order()"
   ]
  },
  {
   "cell_type": "markdown",
   "metadata": {},
   "source": [
    "#### Love Calculator\n",
    "\n",
    "1. Enter your name and your partner's name.\n",
    "2. Compare how many times each character from 'True love' appears in both the names taken together."
   ]
  },
  {
   "cell_type": "code",
   "execution_count": 16,
   "metadata": {},
   "outputs": [
    {
     "name": "stdout",
     "output_type": "stream",
     "text": [
      "Enter your full name: \n",
      "Kanye West\n",
      "Enter your partner's full name: \n",
      "Kim Kadarshian\n",
      "Your true love score is: 42%!\n",
      "Your score is 42. You are alright together.\n"
     ]
    }
   ],
   "source": [
    "your=(input(\"Enter your full name: \\n\")).replace(\" \",\"\").lower()\n",
    "partner=(input(\"Enter your partner's full name: \\n\")).replace(\" \",\"\").lower()\n",
    "\n",
    "both=your+partner\n",
    "true=\"true\"\n",
    "love=\"love\"\n",
    "\n",
    "t_count=[]\n",
    "l_count=[]\n",
    "\n",
    "for i in true:\n",
    "    t_count.append(both.count(i))\n",
    "    \n",
    "for i in love:\n",
    "    l_count.append(both.count(i))\n",
    "\n",
    "t_sum=0\n",
    "for i in t_count:\n",
    "    t_sum+=i\n",
    "    \n",
    "l_sum=0\n",
    "for i in l_count:\n",
    "    l_sum+=i\n",
    "    \n",
    "truelove=int(str(t_sum)+str(l_sum))\n",
    "\n",
    "\n",
    "print(f\"Your true love score is: {truelove}%!\")\n",
    "\n",
    "if truelove<30:\n",
    "    print(f\"Your score is {truelove}. You go like coke and mentos together.\")\n",
    "\n",
    "elif truelove<60:\n",
    "    print(f\"Your score is {truelove}. You are alright together.\")\n",
    "\n",
    "else:\n",
    "    print(f\"Your score is {truelove}. You rock together.\")\n",
    "    \n",
    "        "
   ]
  },
  {
   "cell_type": "markdown",
   "metadata": {},
   "source": [
    "#### Treasure Island: Choose your adventure\n",
    "\n",
    "1. Welcome to the treasure island. Your mission is to find the hidden treasure. \n",
    "2. left or right.  If right --> game over as player reached one way dragon cave. For left player reaches a lake.\n",
    "3. Wait for boat or swim?. If swim --> game over as lake has poisonous snakes. The boat takes player to castle entrance. \n",
    "4. Castle entrance has 3 doors: Red- to fire, blue: freeze to death, yellow: welcome to bliss. "
   ]
  },
  {
   "cell_type": "code",
   "execution_count": 24,
   "metadata": {},
   "outputs": [],
   "source": [
    "def treasure_island():\n",
    "    print(\"Welcome to the Treasure Island! Your mission is to find the hidden treasure.\")    \n",
    "    start=input(\"In which direction do you want to proceed? Left or Right?\\n\")\n",
    "    \n",
    "        \n",
    "    if start=='Left':\n",
    "        print(\"You have reached the lake.\")\n",
    "        \n",
    "        lake=input(\"What do you want to do? Wait for boat or Swim?\\n\")\n",
    "        \n",
    "        if lake=='Wait for boat':\n",
    "            print(\"The boat has brought you to castle.\")\n",
    "            \n",
    "            door=input(\"Which door do you choose to enter? Red, Blue or Yellow?\\n\")\n",
    "            \n",
    "            if door=='Red':\n",
    "                print(\"Game Over! You entered the fiery hell. :(\")\n",
    "                \n",
    "            elif door=='Blue':\n",
    "                print(\"Game Over! You entered the chill chamber. :(\")\n",
    "                \n",
    "            else:\n",
    "                print(\"You Won! The treasure is yours.. :)\")\n",
    "        \n",
    "        else:\n",
    "            print(\"Game Over! The lake had poisonous snakes. You got bitten. :(\")\n",
    "          \n",
    "        \n",
    "    else:\n",
    "        print(\"Game Over! You went one way to the Dragon Cave. :(\")\n",
    "        \n",
    "            "
   ]
  },
  {
   "cell_type": "code",
   "execution_count": 26,
   "metadata": {},
   "outputs": [
    {
     "name": "stdout",
     "output_type": "stream",
     "text": [
      "Welcome to the Treasure Island! Your mission is to find the hidden treasure.\n",
      "In which direction do you want to proceed? Left or Right?\n",
      "Right\n",
      "Game Over! You went one way to the Dragon Cave. :(\n"
     ]
    }
   ],
   "source": [
    "treasure_island()"
   ]
  },
  {
   "cell_type": "code",
   "execution_count": null,
   "metadata": {},
   "outputs": [],
   "source": []
  }
 ],
 "metadata": {
  "kernelspec": {
   "display_name": "Python 3",
   "language": "python",
   "name": "python3"
  },
  "language_info": {
   "codemirror_mode": {
    "name": "ipython",
    "version": 3
   },
   "file_extension": ".py",
   "mimetype": "text/x-python",
   "name": "python",
   "nbconvert_exporter": "python",
   "pygments_lexer": "ipython3",
   "version": "3.7.4"
  }
 },
 "nbformat": 4,
 "nbformat_minor": 2
}
